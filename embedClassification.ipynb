{
 "cells": [
  {
   "cell_type": "markdown",
   "metadata": {},
   "source": [
    "# Embed complaints and then use embeddings to predict risk"
   ]
  },
  {
   "cell_type": "code",
   "execution_count": 1,
   "metadata": {},
   "outputs": [],
   "source": [
    "import openai\n",
    "import pandas as pd\n",
    "import numpy as np\n",
    "import matplotlib.pyplot as plt\n",
    "import json\n",
    "import os\n"
   ]
  },
  {
   "cell_type": "code",
   "execution_count": 31,
   "metadata": {},
   "outputs": [],
   "source": [
    "# get the API key from the json file\n",
    "openai.api_key = os.environ.get('OPENAI_API_KEY')"
   ]
  },
  {
   "cell_type": "code",
   "execution_count": 58,
   "metadata": {},
   "outputs": [
    {
     "name": "stdout",
     "output_type": "stream",
     "text": [
      "person_age                       0\n",
      "person_income                    0\n",
      "person_home_ownership            0\n",
      "person_emp_length              895\n",
      "loan_intent                      0\n",
      "loan_grade                       0\n",
      "loan_amnt                        0\n",
      "loan_int_rate                 3116\n",
      "loan_status                      0\n",
      "loan_percent_income              0\n",
      "cb_person_default_on_file        0\n",
      "cb_person_cred_hist_length       0\n",
      "dtype: int64\n"
     ]
    },
    {
     "data": {
      "text/html": [
       "<div>\n",
       "<style scoped>\n",
       "    .dataframe tbody tr th:only-of-type {\n",
       "        vertical-align: middle;\n",
       "    }\n",
       "\n",
       "    .dataframe tbody tr th {\n",
       "        vertical-align: top;\n",
       "    }\n",
       "\n",
       "    .dataframe thead th {\n",
       "        text-align: right;\n",
       "    }\n",
       "</style>\n",
       "<table border=\"1\" class=\"dataframe\">\n",
       "  <thead>\n",
       "    <tr style=\"text-align: right;\">\n",
       "      <th></th>\n",
       "      <th>person_age</th>\n",
       "      <th>person_income</th>\n",
       "      <th>person_home_ownership</th>\n",
       "      <th>person_emp_length</th>\n",
       "      <th>loan_intent</th>\n",
       "      <th>loan_grade</th>\n",
       "      <th>loan_amnt</th>\n",
       "      <th>loan_int_rate</th>\n",
       "      <th>loan_percent_income</th>\n",
       "      <th>cb_person_default_on_file</th>\n",
       "      <th>cb_person_cred_hist_length</th>\n",
       "      <th>loan_status</th>\n",
       "    </tr>\n",
       "  </thead>\n",
       "  <tbody>\n",
       "    <tr>\n",
       "      <th>0</th>\n",
       "      <td>22</td>\n",
       "      <td>59000</td>\n",
       "      <td>RENT</td>\n",
       "      <td>123.0</td>\n",
       "      <td>PERSONAL</td>\n",
       "      <td>D</td>\n",
       "      <td>35000</td>\n",
       "      <td>16.02</td>\n",
       "      <td>0.59</td>\n",
       "      <td>Y</td>\n",
       "      <td>3</td>\n",
       "      <td>high risk</td>\n",
       "    </tr>\n",
       "    <tr>\n",
       "      <th>1</th>\n",
       "      <td>21</td>\n",
       "      <td>9600</td>\n",
       "      <td>OWN</td>\n",
       "      <td>5.0</td>\n",
       "      <td>EDUCATION</td>\n",
       "      <td>B</td>\n",
       "      <td>1000</td>\n",
       "      <td>11.14</td>\n",
       "      <td>0.10</td>\n",
       "      <td>N</td>\n",
       "      <td>2</td>\n",
       "      <td>low risk</td>\n",
       "    </tr>\n",
       "    <tr>\n",
       "      <th>2</th>\n",
       "      <td>25</td>\n",
       "      <td>9600</td>\n",
       "      <td>MORTGAGE</td>\n",
       "      <td>1.0</td>\n",
       "      <td>MEDICAL</td>\n",
       "      <td>C</td>\n",
       "      <td>5500</td>\n",
       "      <td>12.87</td>\n",
       "      <td>0.57</td>\n",
       "      <td>N</td>\n",
       "      <td>3</td>\n",
       "      <td>high risk</td>\n",
       "    </tr>\n",
       "    <tr>\n",
       "      <th>3</th>\n",
       "      <td>23</td>\n",
       "      <td>65500</td>\n",
       "      <td>RENT</td>\n",
       "      <td>4.0</td>\n",
       "      <td>MEDICAL</td>\n",
       "      <td>C</td>\n",
       "      <td>35000</td>\n",
       "      <td>15.23</td>\n",
       "      <td>0.53</td>\n",
       "      <td>N</td>\n",
       "      <td>2</td>\n",
       "      <td>high risk</td>\n",
       "    </tr>\n",
       "    <tr>\n",
       "      <th>4</th>\n",
       "      <td>24</td>\n",
       "      <td>54400</td>\n",
       "      <td>RENT</td>\n",
       "      <td>8.0</td>\n",
       "      <td>MEDICAL</td>\n",
       "      <td>C</td>\n",
       "      <td>35000</td>\n",
       "      <td>14.27</td>\n",
       "      <td>0.55</td>\n",
       "      <td>Y</td>\n",
       "      <td>4</td>\n",
       "      <td>high risk</td>\n",
       "    </tr>\n",
       "  </tbody>\n",
       "</table>\n",
       "</div>"
      ],
      "text/plain": [
       "   person_age  person_income person_home_ownership  person_emp_length  \\\n",
       "0          22          59000                  RENT              123.0   \n",
       "1          21           9600                   OWN                5.0   \n",
       "2          25           9600              MORTGAGE                1.0   \n",
       "3          23          65500                  RENT                4.0   \n",
       "4          24          54400                  RENT                8.0   \n",
       "\n",
       "  loan_intent loan_grade  loan_amnt  loan_int_rate  loan_percent_income  \\\n",
       "0    PERSONAL          D      35000          16.02                 0.59   \n",
       "1   EDUCATION          B       1000          11.14                 0.10   \n",
       "2     MEDICAL          C       5500          12.87                 0.57   \n",
       "3     MEDICAL          C      35000          15.23                 0.53   \n",
       "4     MEDICAL          C      35000          14.27                 0.55   \n",
       "\n",
       "  cb_person_default_on_file  cb_person_cred_hist_length loan_status  \n",
       "0                         Y                           3   high risk  \n",
       "1                         N                           2    low risk  \n",
       "2                         N                           3   high risk  \n",
       "3                         N                           2   high risk  \n",
       "4                         Y                           4   high risk  "
      ]
     },
     "execution_count": 58,
     "metadata": {},
     "output_type": "execute_result"
    }
   ],
   "source": [
    "import pandas as pd\n",
    "import openai\n",
    "import json\n",
    "\n",
    "# read in the credit_risk_dataset.json file into a pandas dataframe\n",
    "df = pd.read_csv('credit_risk_dataset.csv')\n",
    "# find features with missing values or NaN\n",
    "print(df.isnull().sum())\n",
    "\n",
    "# clean the data replace NaN with -99.0\n",
    "df = df.fillna(-99.0)\n",
    "#re-order the columns so loan_status is last\n",
    "cols = list(df.columns.values)\n",
    "cols.pop(cols.index('loan_status'))\n",
    "df = df[cols+['loan_status']]\n",
    "# replace loan_status values 0 with paid and 1 with default\n",
    "df['loan_status'] = df['loan_status'].replace(0, 'low risk')\n",
    "df['loan_status'] = df['loan_status'].replace(1, 'high risk')\n",
    "\n"
   ]
  },
  {
   "cell_type": "code",
   "execution_count": 59,
   "metadata": {},
   "outputs": [
    {
     "name": "stdout",
     "output_type": "stream",
     "text": [
      "32581\n",
      "32581\n"
     ]
    }
   ],
   "source": [
    "\n",
    "# create jsonl file with {\"prompt\": \"data ->\", \" completion\": \"loan_status\\n\\n\"} where data is all colums except loan_status\n",
    "# and loan_status is the value of the loan_status column\n",
    "# this will be used as the prompt for the GPT-3 model\n",
    "tdata = []\n",
    "tstatus = []\n",
    "for index, row in df.iterrows():\n",
    "    loan_status = row['loan_status']\n",
    "    # drop the loan_status column\n",
    "    row = row.drop('loan_status')\n",
    "    # convert row to dictionary\n",
    "    row = row.to_dict()\n",
    "    # convert dictionary to string\n",
    "    data = json.dumps(row)\n",
    "    # remove curly braces\n",
    "    data = data.replace('{', '')\n",
    "    data = data.replace('}', '')\n",
    "    data = data.replace('\"', '')\n",
    "    tdata.append(data)\n",
    "    tstatus.append(loan_status)\n",
    "\n",
    "# print length of tdata and tstatus\n",
    "print(len(tdata))\n",
    "print(len(tstatus))"
   ]
  },
  {
   "cell_type": "code",
   "execution_count": 65,
   "metadata": {},
   "outputs": [
    {
     "data": {
      "text/plain": [
       "65162"
      ]
     },
     "execution_count": 65,
     "metadata": {},
     "output_type": "execute_result"
    }
   ],
   "source": [
    "import pandas as pd\n",
    "\n",
    "\n",
    "# create a pandas from tdata and tstatus as columns\n",
    "df = pd.DataFrame({'data': tdata, 'loan_status': tstatus})\n",
    "# set mini-df to 1000 rows\n",
    "\n"
   ]
  },
  {
   "cell_type": "code",
   "execution_count": 67,
   "metadata": {},
   "outputs": [
    {
     "name": "stdout",
     "output_type": "stream",
     "text": [
      "1536\n"
     ]
    },
    {
     "name": "stderr",
     "output_type": "stream",
     "text": [
      "/tmp/ipykernel_2282/2171924045.py:11: SettingWithCopyWarning: \n",
      "A value is trying to be set on a copy of a slice from a DataFrame.\n",
      "Try using .loc[row_indexer,col_indexer] = value instead\n",
      "\n",
      "See the caveats in the documentation: https://pandas.pydata.org/pandas-docs/stable/user_guide/indexing.html#returning-a-view-versus-a-copy\n",
      "  mini_df[\"embeddings\"] = embeddings\n"
     ]
    }
   ],
   "source": [
    "\n",
    "# loop over the dataframe and calcula   te the embedding for each row\n",
    "embeddings = []\n",
    "mini_df = df[:100]\n",
    "for index, row in mini_df.iterrows():\n",
    "    model=\"text-embedding-ada-002\"\n",
    "    vec = openai.Embedding.create(input = [row['data']], model=model)['data'][0]['embedding']\n",
    "    embeddings.append(vec)\n",
    "    #embeddings = np.append(embeddings, [vec], axis=0)\n",
    "print (len(embeddings[0]))\n",
    "# write embeddings to a df \n",
    "mini_df[\"embeddings\"] = embeddings\n",
    "\n",
    "mini_df.to_csv('risk_Embed.csv')"
   ]
  },
  {
   "cell_type": "code",
   "execution_count": 68,
   "metadata": {},
   "outputs": [
    {
     "name": "stdout",
     "output_type": "stream",
     "text": [
      "(100, 1536)\n",
      "(100, 2)\n"
     ]
    }
   ],
   "source": [
    "from sklearn.manifold import TSNE\n",
    "import matplotlib\n",
    "from ast import literal_eval\n",
    "import numpy as np\n",
    "from ast import literal_eval\n",
    "embed = pd.read_csv('risk_Embed.csv')\n",
    "tsne = TSNE(n_components=2, perplexity=5, random_state=3)\n",
    "# convert Pandas embedding array to a numpy array of arrays\n",
    "# The matrix is calculated from the ebmeddings \n",
    "matrix = np.array(embed.embeddings.apply(literal_eval).to_list())  # this is the line that takes a while\n",
    "print(matrix.shape)\n",
    "X_2d = tsne.fit_transform(matrix)\n",
    "print(X_2d.shape)\n"
   ]
  },
  {
   "cell_type": "code",
   "execution_count": 69,
   "metadata": {},
   "outputs": [
    {
     "name": "stderr",
     "output_type": "stream",
     "text": [
      "/tmp/ipykernel_2282/194017513.py:6: UserWarning: No data for colormapping provided via 'c'. Parameters 'cmap' will be ignored\n",
      "  plt.scatter(x, y,  cmap=colormap, alpha=0.7)\n"
     ]
    },
    {
     "data": {
      "image/png": "[encoded data removed]",
      "text/plain": [
       "<Figure size 640x480 with 1 Axes>"
      ]
     },
     "metadata": {},
     "output_type": "display_data"
    }
   ],
   "source": [
    "colors = [\"red\", \"darkorange\",  \"blue\", \"darkgreen\",\"purple\"]\n",
    "x = [x for x,y in X_2d]\n",
    "y = [y for x,y in X_2d]\n",
    "\n",
    "colormap = matplotlib.colors.ListedColormap(colors)\n",
    "plt.scatter(x, y,  cmap=colormap, alpha=0.7)\n",
    "plt.show()"
   ]
  },
  {
   "cell_type": "markdown",
   "metadata": {},
   "source": [
    "### Dataframe of embeddings causes problems. We need to be careful because \"complaints.embeddings\" is a Pandas Series and we need a Numpy matrix ie array of arrays. "
   ]
  },
  {
   "cell_type": "code",
   "execution_count": 20,
   "metadata": {},
   "outputs": [
    {
     "name": "stdout",
     "output_type": "stream",
     "text": [
      "<class 'numpy.ndarray'>\n",
      "(1536,)\n",
      "(20, 1536)\n"
     ]
    }
   ],
   "source": [
    "# plot the embeddings clusters using TSNE - remember complaints is a dataframe\n",
    "from sklearn.manifold import TSNE\n",
    "import matplotlib\n",
    "from ast import literal_eval\n",
    "import numpy as np\n",
    "from ast import literal_eval\n",
    "tsne = TSNE(n_components=2, perplexity=5, random_state=3)\n",
    "\n",
    "# transform embeddings from list of lists to numpy array of arrays\n",
    "for i in range(len(embeddings)):\n",
    "    embeddings[i] = np.array(embeddings[i])\n",
    "matrix = np.array(embeddings)\n",
    "print (type(matrix))\n",
    "print(matrix[0].shape)\n",
    "# change the shape of the matrix to be 2D (required for TSNE)\n",
    "matrix = matrix.reshape(-1, 1536)\n",
    "print(matrix.shape)\n",
    "X_2d = tsne.fit_transform(matrix)\n",
    "\n",
    "\n"
   ]
  },
  {
   "cell_type": "code",
   "execution_count": null,
   "metadata": {},
   "outputs": [],
   "source": [
    "\n"
   ]
  },
  {
   "cell_type": "code",
   "execution_count": 21,
   "metadata": {},
   "outputs": [
    {
     "ename": "AttributeError",
     "evalue": "'list' object has no attribute 'Area'",
     "output_type": "error",
     "traceback": [
      "\u001b[0;31m---------------------------------------------------------------------------\u001b[0m",
      "\u001b[0;31mAttributeError\u001b[0m                            Traceback (most recent call last)",
      "\u001b[1;32m/workspaces/OpenAI_API_Tests/embedClassification.ipynb Cell 9\u001b[0m line \u001b[0;36m4\n\u001b[1;32m      <a href='vscode-notebook-cell://codespaces%2Bupgraded-enigma-wg76rgrxvvrfg46j/workspaces/OpenAI_API_Tests/embedClassification.ipynb#X11sdnNjb2RlLXJlbW90ZQ%3D%3D?line=1'>2</a>\u001b[0m x \u001b[39m=\u001b[39m [x \u001b[39mfor\u001b[39;00m x,y \u001b[39min\u001b[39;00m X_2d]\n\u001b[1;32m      <a href='vscode-notebook-cell://codespaces%2Bupgraded-enigma-wg76rgrxvvrfg46j/workspaces/OpenAI_API_Tests/embedClassification.ipynb#X11sdnNjb2RlLXJlbW90ZQ%3D%3D?line=2'>3</a>\u001b[0m y \u001b[39m=\u001b[39m [y \u001b[39mfor\u001b[39;00m x,y \u001b[39min\u001b[39;00m X_2d]\n\u001b[0;32m----> <a href='vscode-notebook-cell://codespaces%2Bupgraded-enigma-wg76rgrxvvrfg46j/workspaces/OpenAI_API_Tests/embedClassification.ipynb#X11sdnNjb2RlLXJlbW90ZQ%3D%3D?line=3'>4</a>\u001b[0m color_indices \u001b[39m=\u001b[39m embeddings\u001b[39m.\u001b[39;49mArea\u001b[39m.\u001b[39mvalues \n\u001b[1;32m      <a href='vscode-notebook-cell://codespaces%2Bupgraded-enigma-wg76rgrxvvrfg46j/workspaces/OpenAI_API_Tests/embedClassification.ipynb#X11sdnNjb2RlLXJlbW90ZQ%3D%3D?line=4'>5</a>\u001b[0m \u001b[39mprint\u001b[39m(color_indices)\n\u001b[1;32m      <a href='vscode-notebook-cell://codespaces%2Bupgraded-enigma-wg76rgrxvvrfg46j/workspaces/OpenAI_API_Tests/embedClassification.ipynb#X11sdnNjb2RlLXJlbW90ZQ%3D%3D?line=5'>6</a>\u001b[0m colormap \u001b[39m=\u001b[39m matplotlib\u001b[39m.\u001b[39mcolors\u001b[39m.\u001b[39mListedColormap(colors)\n",
      "\u001b[0;31mAttributeError\u001b[0m: 'list' object has no attribute 'Area'"
     ]
    }
   ],
   "source": [
    "\n",
    "\n"
   ]
  },
  {
   "cell_type": "code",
   "execution_count": 179,
   "metadata": {},
   "outputs": [
    {
     "name": "stdout",
     "output_type": "stream",
     "text": [
      "80\n"
     ]
    }
   ],
   "source": [
    "# split the data into training and test sets for classification of Score from the embeddings\n",
    "# Score = sentiment,  Area = product category\n",
    "from sklearn.model_selection import train_test_split\n",
    "\n",
    "matrix = np.array(complaints.embeddings.apply(literal_eval).to_list())\n",
    "X_train, X_test, y_train, y_test = train_test_split(\n",
    "    complaints.embeddings.apply(literal_eval).to_list(),\n",
    "    complaints.Score.values,  # Score = +1 or -1 AND Area = 0,1,2,3 \n",
    "    test_size = 0.2,\n",
    "    random_state=42\n",
    ")\n",
    "# print lenght of training set\n",
    "print(len(X_train))"
   ]
  },
  {
   "cell_type": "code",
   "execution_count": 180,
   "metadata": {},
   "outputs": [
    {
     "name": "stdout",
     "output_type": "stream",
     "text": [
      "[ 0.8 -0.8  1.   1.  -0.8  1.  -0.8 -1.   1.  -1.   0.   0.6 -1.  -1.\n",
      "  0.4  1.   1.  -1.   1.   1. ]\n"
     ]
    }
   ],
   "source": [
    "from sklearn.ensemble import RandomForestRegressor\n",
    "\n",
    "rfr = RandomForestRegressor(n_estimators=10) # n_estimators is the number of trees\n",
    "rfr.fit(X_train, y_train)\n",
    "preds = rfr.predict(X_test)\n",
    "print(preds)\n",
    "# these should be +1 or -1 for the sentiment and Areas 0,1,2,3 for the product categories"
   ]
  },
  {
   "cell_type": "code",
   "execution_count": 181,
   "metadata": {},
   "outputs": [
    {
     "name": "stdout",
     "output_type": "stream",
     "text": [
      "0.28982753492378877\n"
     ]
    }
   ],
   "source": [
    "# compare the predictions to the actual scores\n",
    "from sklearn.metrics import mean_squared_error\n",
    "from math import sqrt\n",
    "rmse = sqrt(mean_squared_error(y_test, preds))\n",
    "print(rmse)"
   ]
  },
  {
   "cell_type": "code",
   "execution_count": null,
   "metadata": {},
   "outputs": [],
   "source": []
  }
 ],
 "metadata": {
  "kernelspec": {
   "display_name": "Python 3",
   "language": "python",
   "name": "python3"
  },
  "language_info": {
   "codemirror_mode": {
    "name": "ipython",
    "version": 3
   },
   "file_extension": ".py",
   "mimetype": "text/x-python",
   "name": "python",
   "nbconvert_exporter": "python",
   "pygments_lexer": "ipython3",
   "version": "3.10.8"
  },
  "orig_nbformat": 4
 },
 "nbformat": 4,
 "nbformat_minor": 2
}
