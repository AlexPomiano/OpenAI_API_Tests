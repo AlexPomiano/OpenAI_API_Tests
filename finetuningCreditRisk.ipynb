{
 "cells": [
  {
   "cell_type": "markdown",
   "metadata": {},
   "source": [
    "# Fine Tune for Credit Risk"
   ]
  },
  {
   "cell_type": "code",
   "execution_count": null,
   "metadata": {},
   "outputs": [],
   "source": [
    "%pip install -r requirements.txt"
   ]
  },
  {
   "cell_type": "code",
   "execution_count": 1,
   "metadata": {},
   "outputs": [],
   "source": [
    "import os\n",
    "import openai\n",
    "import json"
   ]
  },
  {
   "cell_type": "code",
   "execution_count": 2,
   "metadata": {},
   "outputs": [],
   "source": [
    "openai.api_key = os.environ.get('OPENAI_API_KEY')"
   ]
  },
  {
   "cell_type": "code",
   "execution_count": 11,
   "metadata": {},
   "outputs": [
    {
     "name": "stdout",
     "output_type": "stream",
     "text": [
      "[{'person_age': 22, 'person_income': 59000, 'person_home_ownership': 'RENT', 'person_emp_length': 123.0, 'loan_intent': 'PERSONAL', 'loan_grade': 'D', 'loan_amnt': 35000, 'loan_int_rate': 16.02, 'loan_status': 'default', 'loan_percent_income': 0.59, 'cb_person_default_on_file': 'Y', 'cb_person_cred_hist_length': 3}, {'person_age': 21, 'person_income': 9600, 'person_home_ownership': 'OWN', 'person_emp_length': 5.0, 'loan_intent': 'EDUCATION', 'loan_grade': 'B', 'loan_amnt': 1000, 'loan_int_rate': 11.14, 'loan_status': 'paid', 'loan_percent_income': 0.1, 'cb_person_default_on_file': 'N', 'cb_person_cred_hist_length': 2}, {'person_age': 25, 'person_income': 9600, 'person_home_ownership': 'MORTGAGE', 'person_emp_length': 1.0, 'loan_intent': 'MEDICAL', 'loan_grade': 'C', 'loan_amnt': 5500, 'loan_int_rate': 12.87, 'loan_status': 'default', 'loan_percent_income': 0.57, 'cb_person_default_on_file': 'N', 'cb_person_cred_hist_length': 3}, {'person_age': 23, 'person_income': 65500, 'person_home_ownership': 'RENT', 'person_emp_length': 4.0, 'loan_intent': 'MEDICAL', 'loan_grade': 'C', 'loan_amnt': 35000, 'loan_int_rate': 15.23, 'loan_status': 'default', 'loan_percent_income': 0.53, 'cb_person_default_on_file': 'N', 'cb_person_cred_hist_length': 2}]\n"
     ]
    }
   ],
   "source": [
    "import pandas as pd\n",
    "import json\n",
    "\n",
    "# read in csv file\n",
    "df = pd.read_csv('credit_risk_dataset.csv')\n",
    "\n",
    "# create list of dictionaries\n",
    "dict_list = df.to_dict(orient='records')\n",
    "# replace loan_status with 1 as Default or 0 as Paid\n",
    "for dict in dict_list:\n",
    "    if dict['loan_status'] == 1:\n",
    "        dict['loan_status'] = \"default\"\n",
    "    else:\n",
    "        dict['loan_status'] = \"paid\"\n"
   ]
  },
  {
   "cell_type": "code",
   "execution_count": 12,
   "metadata": {},
   "outputs": [],
   "source": [
    "from sklearn.model_selection import train_test_split\n",
    "import json\n",
    "\n",
    "train_data, validation_data = train_test_split(dict_list, test_size=0.2, random_state=42)\n",
    "\n",
    "\n",
    "# define a function to write data to jsonl format\n",
    "def write_jsonl(file_path, data):\n",
    "    with open(file_path, 'w') as f:\n",
    "        for item in data:\n",
    "            f.write(json.dumps(item) + '\\n')\n",
    "\n",
    "\n",
    "\n",
    "\n",
    "# split the data into train and validation sets\n",
    "train_data, validation_data = train_test_split(dict_list, test_size=0.2, random_state=42)\n",
    "\n",
    "# remove loan_status from the train and validation sets\n",
    "\n",
    "for dict in validation_data:\n",
    "    dict.pop('loan_status')\n",
    "\n",
    "# write train_data to jsonl format\n",
    "write_jsonl('train_fdata.jsonl', train_data)\n",
    "\n",
    "# write validation_data to jsonl format\n",
    "write_jsonl('val_fdata.jsonl', validation_data)\n",
    "\n"
   ]
  },
  {
   "cell_type": "code",
   "execution_count": 6,
   "metadata": {},
   "outputs": [
    {
     "ename": "KeyError",
     "evalue": "'Name'",
     "output_type": "error",
     "traceback": [
      "\u001b[0;31m---------------------------------------------------------------------------\u001b[0m",
      "\u001b[0;31mKeyError\u001b[0m                                  Traceback (most recent call last)",
      "\u001b[1;32m/workspaces/OpenAI_API_Tests/finetuningCreditRisk.ipynb Cell 6\u001b[0m line \u001b[0;36m1\n\u001b[1;32m     <a href='vscode-notebook-cell://codespaces%2Bupgraded-enigma-wg76rgrxvvrfg46j/workspaces/OpenAI_API_Tests/finetuningCreditRisk.ipynb#X11sdnNjb2RlLXJlbW90ZQ%3D%3D?line=13'>14</a>\u001b[0m train_data \u001b[39m=\u001b[39m []\n\u001b[1;32m     <a href='vscode-notebook-cell://codespaces%2Bupgraded-enigma-wg76rgrxvvrfg46j/workspaces/OpenAI_API_Tests/finetuningCreditRisk.ipynb#X11sdnNjb2RlLXJlbW90ZQ%3D%3D?line=14'>15</a>\u001b[0m \u001b[39mfor\u001b[39;00m item \u001b[39min\u001b[39;00m train:\n\u001b[0;32m---> <a href='vscode-notebook-cell://codespaces%2Bupgraded-enigma-wg76rgrxvvrfg46j/workspaces/OpenAI_API_Tests/finetuningCreditRisk.ipynb#X11sdnNjb2RlLXJlbW90ZQ%3D%3D?line=15'>16</a>\u001b[0m     train_data\u001b[39m.\u001b[39mappend({\u001b[39m'\u001b[39m\u001b[39mprompt\u001b[39m\u001b[39m'\u001b[39m: \u001b[39mf\u001b[39m\u001b[39m\"\u001b[39m\u001b[39mName: \u001b[39m\u001b[39m{\u001b[39;00mitem[\u001b[39m'\u001b[39;49m\u001b[39mName\u001b[39;49m\u001b[39m'\u001b[39;49m]\u001b[39m}\u001b[39;00m\u001b[39m, Age: \u001b[39m\u001b[39m{\u001b[39;00mitem[\u001b[39m'\u001b[39m\u001b[39mAge\u001b[39m\u001b[39m'\u001b[39m]\u001b[39m}\u001b[39;00m\u001b[39m, Gender: \u001b[39m\u001b[39m{\u001b[39;00mitem[\u001b[39m'\u001b[39m\u001b[39mGender\u001b[39m\u001b[39m'\u001b[39m]\u001b[39m}\u001b[39;00m\u001b[39m, Loan Amount: \u001b[39m\u001b[39m{\u001b[39;00mitem[\u001b[39m'\u001b[39m\u001b[39mLoan Amount\u001b[39m\u001b[39m'\u001b[39m]\u001b[39m}\u001b[39;00m\u001b[39m, Loan Purpose: \u001b[39m\u001b[39m{\u001b[39;00mitem[\u001b[39m'\u001b[39m\u001b[39mLoan Purpose\u001b[39m\u001b[39m'\u001b[39m]\u001b[39m}\u001b[39;00m\u001b[39m\"\u001b[39m, \u001b[39m'\u001b[39m\u001b[39mcompletion\u001b[39m\u001b[39m'\u001b[39m: item[\u001b[39m'\u001b[39m\u001b[39mloan_status\u001b[39m\u001b[39m'\u001b[39m]})\n\u001b[1;32m     <a href='vscode-notebook-cell://codespaces%2Bupgraded-enigma-wg76rgrxvvrfg46j/workspaces/OpenAI_API_Tests/finetuningCreditRisk.ipynb#X11sdnNjb2RlLXJlbW90ZQ%3D%3D?line=17'>18</a>\u001b[0m test_data \u001b[39m=\u001b[39m []  \n\u001b[1;32m     <a href='vscode-notebook-cell://codespaces%2Bupgraded-enigma-wg76rgrxvvrfg46j/workspaces/OpenAI_API_Tests/finetuningCreditRisk.ipynb#X11sdnNjb2RlLXJlbW90ZQ%3D%3D?line=18'>19</a>\u001b[0m \u001b[39mfor\u001b[39;00m item \u001b[39min\u001b[39;00m test:\n",
      "\u001b[0;31mKeyError\u001b[0m: 'Name'"
     ]
    }
   ],
   "source": [
    "\n",
    "\n",
    "\n"
   ]
  }
 ],
 "metadata": {
  "kernelspec": {
   "display_name": "Python 3",
   "language": "python",
   "name": "python3"
  },
  "language_info": {
   "codemirror_mode": {
    "name": "ipython",
    "version": 3
   },
   "file_extension": ".py",
   "mimetype": "text/x-python",
   "name": "python",
   "nbconvert_exporter": "python",
   "pygments_lexer": "ipython3",
   "version": "3.10.8"
  }
 },
 "nbformat": 4,
 "nbformat_minor": 2
}
