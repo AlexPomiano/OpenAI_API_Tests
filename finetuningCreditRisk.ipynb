{
 "cells": [
  {
   "cell_type": "markdown",
   "metadata": {},
   "source": [
    "# Fine Tune for Credit Risk"
   ]
  },
  {
   "cell_type": "code",
   "execution_count": 3,
   "metadata": {},
   "outputs": [
    {
     "name": "stdout",
     "output_type": "stream",
     "text": [
      "Requirement already satisfied: openai in /usr/local/python/3.10.8/lib/python3.10/site-packages (from -r requirements.txt (line 1)) (0.28.1)\n",
      "Requirement already satisfied: fs in /usr/local/python/3.10.8/lib/python3.10/site-packages (from -r requirements.txt (line 2)) (2.4.16)\n",
      "Requirement already satisfied: requests>=2.20 in /home/codespace/.local/lib/python3.10/site-packages (from openai->-r requirements.txt (line 1)) (2.31.0)\n",
      "Requirement already satisfied: tqdm in /usr/local/python/3.10.8/lib/python3.10/site-packages (from openai->-r requirements.txt (line 1)) (4.66.1)\n",
      "Requirement already satisfied: aiohttp in /usr/local/python/3.10.8/lib/python3.10/site-packages (from openai->-r requirements.txt (line 1)) (3.8.6)\n",
      "Requirement already satisfied: appdirs~=1.4.3 in /usr/local/python/3.10.8/lib/python3.10/site-packages (from fs->-r requirements.txt (line 2)) (1.4.4)\n",
      "Requirement already satisfied: setuptools in /usr/local/python/3.10.8/lib/python3.10/site-packages (from fs->-r requirements.txt (line 2)) (68.0.0)\n",
      "Requirement already satisfied: six~=1.10 in /home/codespace/.local/lib/python3.10/site-packages (from fs->-r requirements.txt (line 2)) (1.16.0)\n",
      "Requirement already satisfied: charset-normalizer<4,>=2 in /home/codespace/.local/lib/python3.10/site-packages (from requests>=2.20->openai->-r requirements.txt (line 1)) (3.3.0)\n",
      "Requirement already satisfied: idna<4,>=2.5 in /home/codespace/.local/lib/python3.10/site-packages (from requests>=2.20->openai->-r requirements.txt (line 1)) (3.4)\n",
      "Requirement already satisfied: urllib3<3,>=1.21.1 in /home/codespace/.local/lib/python3.10/site-packages (from requests>=2.20->openai->-r requirements.txt (line 1)) (2.0.7)\n",
      "Requirement already satisfied: certifi>=2017.4.17 in /home/codespace/.local/lib/python3.10/site-packages (from requests>=2.20->openai->-r requirements.txt (line 1)) (2023.7.22)\n",
      "Requirement already satisfied: attrs>=17.3.0 in /home/codespace/.local/lib/python3.10/site-packages (from aiohttp->openai->-r requirements.txt (line 1)) (23.1.0)\n",
      "Requirement already satisfied: multidict<7.0,>=4.5 in /usr/local/python/3.10.8/lib/python3.10/site-packages (from aiohttp->openai->-r requirements.txt (line 1)) (6.0.4)\n",
      "Requirement already satisfied: async-timeout<5.0,>=4.0.0a3 in /usr/local/python/3.10.8/lib/python3.10/site-packages (from aiohttp->openai->-r requirements.txt (line 1)) (4.0.3)\n",
      "Requirement already satisfied: yarl<2.0,>=1.0 in /usr/local/python/3.10.8/lib/python3.10/site-packages (from aiohttp->openai->-r requirements.txt (line 1)) (1.9.2)\n",
      "Requirement already satisfied: frozenlist>=1.1.1 in /usr/local/python/3.10.8/lib/python3.10/site-packages (from aiohttp->openai->-r requirements.txt (line 1)) (1.4.0)\n",
      "Requirement already satisfied: aiosignal>=1.1.2 in /usr/local/python/3.10.8/lib/python3.10/site-packages (from aiohttp->openai->-r requirements.txt (line 1)) (1.3.1)\n",
      "\n",
      "\u001b[1m[\u001b[0m\u001b[34;49mnotice\u001b[0m\u001b[1;39;49m]\u001b[0m\u001b[39;49m A new release of pip is available: \u001b[0m\u001b[31;49m23.3\u001b[0m\u001b[39;49m -> \u001b[0m\u001b[32;49m23.3.1\u001b[0m\n",
      "\u001b[1m[\u001b[0m\u001b[34;49mnotice\u001b[0m\u001b[1;39;49m]\u001b[0m\u001b[39;49m To update, run: \u001b[0m\u001b[32;49mpip install --upgrade pip\u001b[0m\n",
      "Note: you may need to restart the kernel to use updated packages.\n"
     ]
    }
   ],
   "source": [
    "%pip install -r requirements.txt"
   ]
  },
  {
   "cell_type": "code",
   "execution_count": 1,
   "metadata": {},
   "outputs": [],
   "source": [
    "import os\n",
    "import openai\n",
    "import json"
   ]
  },
  {
   "cell_type": "code",
   "execution_count": 2,
   "metadata": {},
   "outputs": [],
   "source": [
    "openai.api_key = os.environ.get('OPENAI_API_KEY')"
   ]
  },
  {
   "cell_type": "code",
   "execution_count": 3,
   "metadata": {},
   "outputs": [
    {
     "name": "stdout",
     "output_type": "stream",
     "text": [
      "person_age                       0\n",
      "person_income                    0\n",
      "person_home_ownership            0\n",
      "person_emp_length              895\n",
      "loan_intent                      0\n",
      "loan_grade                       0\n",
      "loan_amnt                        0\n",
      "loan_int_rate                 3116\n",
      "loan_status                      0\n",
      "loan_percent_income              0\n",
      "cb_person_default_on_file        0\n",
      "cb_person_cred_hist_length       0\n",
      "dtype: int64\n"
     ]
    }
   ],
   "source": [
    "import pandas as pd\n",
    "import json\n",
    "\n",
    "# read in csv file\n",
    "df = pd.read_csv('credit_risk_dataset.csv')\n",
    "\n",
    "# find features with missing values or NaN\n",
    "print(df.isnull().sum())\n",
    "\n",
    "# clean the data replace NaN with -99.0\n",
    "df = df.fillna(-99.0)\n",
    "#re-order the columns so loan_status is last\n",
    "cols = list(df.columns.values)\n",
    "cols.pop(cols.index('loan_status'))\n",
    "df = df[cols+['loan_status']]\n",
    "# replace loan_status values 0 with paid and 1 with default\n",
    "df['loan_status'] = df['loan_status'].replace(0, 'low risk')\n",
    "df['loan_status'] = df['loan_status'].replace(1, 'high risk')\n",
    "\n",
    "\n",
    "# print out the first 10 rows\n",
    "mini_df = df[:100]\n",
    "\n",
    "\n",
    "\n"
   ]
  },
  {
   "cell_type": "code",
   "execution_count": 5,
   "metadata": {},
   "outputs": [
    {
     "name": "stdout",
     "output_type": "stream",
     "text": [
      "100\n"
     ]
    }
   ],
   "source": [
    "# create jsonl file with {\"prompt\": \"data ->\", \" completion\": \"loan_status\\n\\n\"} where data is all colums except loan_status\n",
    "# and loan_status is the value of the loan_status column\n",
    "# this will be used as the prompt for the GPT-3 model\n",
    "tdata = []\n",
    "with open('credit_risk_dataset.jsonl', 'w') as f:\n",
    "    for index, row in mini_df.iterrows():\n",
    "        loan_status = row['loan_status']\n",
    "        # drop the loan_status column\n",
    "        row = row.drop('loan_status')\n",
    "        # convert row to dictionary\n",
    "        row = row.to_dict()\n",
    "        # convert dictionary to string\n",
    "        data = json.dumps(row)\n",
    "        # remove curly braces\n",
    "        data = data.replace('{', '')\n",
    "        data = data.replace('}', '')\n",
    "        data = data.replace('\"', '')\n",
    "    \n",
    "        \n",
    "   \n",
    "        # create the prompt with newline and comma\n",
    "        prompt = '{\"prompt\": \" ' + data + '->\", \"completion\": \" ' + loan_status + '\"}'\n",
    "        # create an array of the prompt\n",
    "        tdata.append(prompt)\n",
    "    print(len(tdata))\n",
    "        \n",
    "\n",
    "    # write tdata to a json file with newline and comma after each prompt\n",
    "    with open('credit_risk_dataset.json', 'w') as f:\n",
    "        for prompt in tdata:\n",
    "            f.write(prompt+', \\n')  "
   ]
  },
  {
   "cell_type": "code",
   "execution_count": 65,
   "metadata": {},
   "outputs": [],
   "source": [
    "train = [{\"prompt\": \" person_age: 22, person_income: 59000, person_home_ownership: RENT, person_emp_length: 123.0, loan_intent: PERSONAL, loan_grade: D, loan_amnt: 35000, loan_int_rate: 16.02, loan_percent_income: 0.59, cb_person_default_on_file: Y, cb_person_cred_hist_length: 3->\", \"completion\": \" high risk\"}, \n",
    "{\"prompt\": \" person_age: 21, person_income: 9600, person_home_ownership: OWN, person_emp_length: 5.0, loan_intent: EDUCATION, loan_grade: B, loan_amnt: 1000, loan_int_rate: 11.14, loan_percent_income: 0.1, cb_person_default_on_file: N, cb_person_cred_hist_length: 2->\", \"completion\": \" low risk\"}, \n",
    "{\"prompt\": \" person_age: 25, person_income: 9600, person_home_ownership: MORTGAGE, person_emp_length: 1.0, loan_intent: MEDICAL, loan_grade: C, loan_amnt: 5500, loan_int_rate: 12.87, loan_percent_income: 0.57, cb_person_default_on_file: N, cb_person_cred_hist_length: 3->\", \"completion\": \" high risk\"}, \n",
    "{\"prompt\": \" person_age: 23, person_income: 65500, person_home_ownership: RENT, person_emp_length: 4.0, loan_intent: MEDICAL, loan_grade: C, loan_amnt: 35000, loan_int_rate: 15.23, loan_percent_income: 0.53, cb_person_default_on_file: N, cb_person_cred_hist_length: 2->\", \"completion\": \" high risk\"}, \n",
    "{\"prompt\": \" person_age: 24, person_income: 54400, person_home_ownership: RENT, person_emp_length: 8.0, loan_intent: MEDICAL, loan_grade: C, loan_amnt: 35000, loan_int_rate: 14.27, loan_percent_income: 0.55, cb_person_default_on_file: Y, cb_person_cred_hist_length: 4->\", \"completion\": \" high risk\"}, \n",
    "{\"prompt\": \" person_age: 21, person_income: 9900, person_home_ownership: OWN, person_emp_length: 2.0, loan_intent: VENTURE, loan_grade: A, loan_amnt: 2500, loan_int_rate: 7.14, loan_percent_income: 0.25, cb_person_default_on_file: N, cb_person_cred_hist_length: 2->\", \"completion\": \" high risk\"}, \n",
    "{\"prompt\": \" person_age: 26, person_income: 77100, person_home_ownership: RENT, person_emp_length: 8.0, loan_intent: EDUCATION, loan_grade: B, loan_amnt: 35000, loan_int_rate: 12.42, loan_percent_income: 0.45, cb_person_default_on_file: N, cb_person_cred_hist_length: 3->\", \"completion\": \" high risk\"}, \n",
    "{\"prompt\": \" person_age: 24, person_income: 78956, person_home_ownership: RENT, person_emp_length: 5.0, loan_intent: MEDICAL, loan_grade: B, loan_amnt: 35000, loan_int_rate: 11.11, loan_percent_income: 0.44, cb_person_default_on_file: N, cb_person_cred_hist_length: 4->\", \"completion\": \" high risk\"}, \n",
    "{\"prompt\": \" person_age: 24, person_income: 83000, person_home_ownership: RENT, person_emp_length: 8.0, loan_intent: PERSONAL, loan_grade: A, loan_amnt: 35000, loan_int_rate: 8.9, loan_percent_income: 0.42, cb_person_default_on_file: N, cb_person_cred_hist_length: 2->\", \"completion\": \" high risk\"}, \n",
    "{\"prompt\": \" person_age: 21, person_income: 10000, person_home_ownership: OWN, person_emp_length: 6.0, loan_intent: VENTURE, loan_grade: D, loan_amnt: 1600, loan_int_rate: 14.74, loan_percent_income: 0.16, cb_person_default_on_file: N, cb_person_cred_hist_length: 3->\", \"completion\": \" high risk\"}]"
   ]
  },
  {
   "cell_type": "code",
   "execution_count": 66,
   "metadata": {},
   "outputs": [],
   "source": [
    "def prepare_data(dictionary_data, final_file_name):\n",
    "    with open(final_file_name, 'w') as outfile:\n",
    "        for entry in dictionary_data:\n",
    "            json.dump(entry, outfile)\n",
    "            outfile.write('\\n')\n"
   ]
  },
  {
   "cell_type": "code",
   "execution_count": 67,
   "metadata": {},
   "outputs": [],
   "source": [
    "prepare_data(train, 'john.jsonl')"
   ]
  },
  {
   "cell_type": "code",
   "execution_count": 68,
   "metadata": {},
   "outputs": [
    {
     "name": "stderr",
     "output_type": "stream",
     "text": [
      "4455.44s - pydevd: Sending message related to process being replaced timed-out after 5 seconds\n"
     ]
    },
    {
     "name": "stdout",
     "output_type": "stream",
     "text": [
      "Analyzing...\n",
      "\n",
      "- Your file contains 10 prompt-completion pairs. In general, we recommend having at least a few hundred examples. We've found that performance tends to linearly increase for every doubling of the number of examples\n",
      "- Based on your data it seems like you're trying to fine-tune a model for classification\n",
      "- For classification, we recommend you try one of the faster and cheaper models, such as `ada`\n",
      "- For classification, you can estimate the expected model performance by keeping a held out dataset, which is not used for training\n",
      "- All prompts end with suffix `->`\n",
      "- All prompts start with prefix ` person_age: 2`. Fine-tuning doesn't require the instruction specifying the task, or a few-shot example scenario. Most of the time you should only add the input data into the prompt, and the desired output into the completion\n",
      "\n",
      "Based on the analysis we will perform the following actions:\n",
      "- [Recommended] Remove prefix ` person_age: 2` from all prompts [Y/n]: ^C\n",
      "\n"
     ]
    }
   ],
   "source": [
    "!openai tools fine_tunes.prepare_data -f \"john.jsonl\""
   ]
  },
  {
   "cell_type": "code",
   "execution_count": 73,
   "metadata": {},
   "outputs": [
    {
     "name": "stdout",
     "output_type": "stream",
     "text": [
      "{\n",
      "  \"id\": \"cmpl-8HEGAK8ha4zINHlDYZdsi1Q9xxUPs\",\n",
      "  \"object\": \"text_completion\",\n",
      "  \"created\": 1699117082,\n",
      "  \"model\": \"ada\",\n",
      "  \"choices\": [\n",
      "    {\n",
      "      \"text\": \"\\n{\\\"prompt\\\": \\\" person_age: 25, person_income: 9600, person_home_ownership: MORTGAGE, person_emp_length: 1.0, loan_intent: MEDICAL, loan_grade: C, loan_amnt: 5500, loan_int_rate: 12.87, loan_percent_income: 0.57, cb_person_default_on_file: N, cb_person_cred_hist_length: 3->\\\", \\\"completion\\\": \\\" high risk\\\"}\\n\\n{\\\"prompt\\\": \\\" person_age: 21, person_income: 9600, person_home_ownership: OWN, person_emp_length: 2.0, loan_intent: VENTURE, loan_grade: A, loan_amnt: 2500, loan_int_rate: 7.14, loan_percent_income: 0.25, cb\",\n",
      "      \"index\": 0,\n",
      "      \"logprobs\": null,\n",
      "      \"finish_reason\": \"length\"\n",
      "    }\n",
      "  ],\n",
      "  \"usage\": {\n",
      "    \"prompt_tokens\": 1160,\n",
      "    \"completion_tokens\": 200,\n",
      "    \"total_tokens\": 1360\n",
      "  }\n",
      "}\n"
     ]
    }
   ],
   "source": [
    "import openai\n",
    "\n",
    "# set the OpenAI API key\n",
    "openai.api_key = os.environ.get('OPENAI_API_KEY')\n",
    "\n",
    "# read the training data from the file\n",
    "with open('john.jsonl', 'r') as f:\n",
    "    training_data = f.read()\n",
    "\n",
    "# create the fine-tuning request\n",
    "response = openai.Completion.create(\n",
    "    engine=\"ada\",\n",
    "    prompt=training_data,\n",
    "    temperature=0.5,\n",
    "    max_tokens=200,\n",
    "    n=1,\n",
    "    stop=None,\n",
    "    frequency_penalty=0,\n",
    "    presence_penalty=0\n",
    ")\n",
    "\n",
    "# print the response\n",
    "print(response)\n",
    "\n",
    "\n"
   ]
  },
  {
   "cell_type": "code",
   "execution_count": null,
   "metadata": {},
   "outputs": [],
   "source": []
  }
 ],
 "metadata": {
  "kernelspec": {
   "display_name": "Python 3",
   "language": "python",
   "name": "python3"
  },
  "language_info": {
   "codemirror_mode": {
    "name": "ipython",
    "version": 3
   },
   "file_extension": ".py",
   "mimetype": "text/x-python",
   "name": "python",
   "nbconvert_exporter": "python",
   "pygments_lexer": "ipython3",
   "version": "3.10.8"
  }
 },
 "nbformat": 4,
 "nbformat_minor": 2
}
