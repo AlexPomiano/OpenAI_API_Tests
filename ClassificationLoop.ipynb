{
 "cells": [
  {
   "cell_type": "markdown",
   "metadata": {},
   "source": [
    "# Ask GPT to predict loan risk based on financial record"
   ]
  },
  {
   "cell_type": "code",
   "execution_count": 1,
   "metadata": {
    "tags": [
     "parameters"
    ]
   },
   "outputs": [],
   "source": [
    "import openai\n",
    "import pandas as pd\n",
    "import numpy as np\n",
    "import matplotlib.pyplot as plt\n",
    "import json\n",
    "import os\n"
   ]
  },
  {
   "cell_type": "code",
   "execution_count": 2,
   "metadata": {},
   "outputs": [],
   "source": [
    "# get the API key from the json file\n",
    "openai.api_key = os.environ.get('OPENAI_API_KEY')"
   ]
  },
  {
   "cell_type": "code",
   "execution_count": 3,
   "metadata": {},
   "outputs": [
    {
     "data": {
      "text/html": [
       "<div>\n",
       "<style scoped>\n",
       "    .dataframe tbody tr th:only-of-type {\n",
       "        vertical-align: middle;\n",
       "    }\n",
       "\n",
       "    .dataframe tbody tr th {\n",
       "        vertical-align: top;\n",
       "    }\n",
       "\n",
       "    .dataframe thead th {\n",
       "        text-align: right;\n",
       "    }\n",
       "</style>\n",
       "<table border=\"1\" class=\"dataframe\">\n",
       "  <thead>\n",
       "    <tr style=\"text-align: right;\">\n",
       "      <th></th>\n",
       "      <th>person_age</th>\n",
       "      <th>person_income</th>\n",
       "      <th>person_home_ownership</th>\n",
       "      <th>person_emp_length</th>\n",
       "      <th>loan_intent</th>\n",
       "      <th>loan_grade</th>\n",
       "      <th>loan_amnt</th>\n",
       "      <th>loan_int_rate</th>\n",
       "      <th>loan_percent_income</th>\n",
       "      <th>cb_person_default_on_file</th>\n",
       "      <th>cb_person_cred_hist_length</th>\n",
       "      <th>loan_status</th>\n",
       "    </tr>\n",
       "  </thead>\n",
       "  <tbody>\n",
       "    <tr>\n",
       "      <th>0</th>\n",
       "      <td>22</td>\n",
       "      <td>59000</td>\n",
       "      <td>RENT</td>\n",
       "      <td>123.0</td>\n",
       "      <td>PERSONAL</td>\n",
       "      <td>D</td>\n",
       "      <td>35000</td>\n",
       "      <td>16.02</td>\n",
       "      <td>0.59</td>\n",
       "      <td>Y</td>\n",
       "      <td>3</td>\n",
       "      <td>1</td>\n",
       "    </tr>\n",
       "    <tr>\n",
       "      <th>1</th>\n",
       "      <td>21</td>\n",
       "      <td>9600</td>\n",
       "      <td>OWN</td>\n",
       "      <td>5.0</td>\n",
       "      <td>EDUCATION</td>\n",
       "      <td>B</td>\n",
       "      <td>1000</td>\n",
       "      <td>11.14</td>\n",
       "      <td>0.10</td>\n",
       "      <td>N</td>\n",
       "      <td>2</td>\n",
       "      <td>0</td>\n",
       "    </tr>\n",
       "    <tr>\n",
       "      <th>2</th>\n",
       "      <td>25</td>\n",
       "      <td>9600</td>\n",
       "      <td>MORTGAGE</td>\n",
       "      <td>1.0</td>\n",
       "      <td>MEDICAL</td>\n",
       "      <td>C</td>\n",
       "      <td>5500</td>\n",
       "      <td>12.87</td>\n",
       "      <td>0.57</td>\n",
       "      <td>N</td>\n",
       "      <td>3</td>\n",
       "      <td>1</td>\n",
       "    </tr>\n",
       "    <tr>\n",
       "      <th>3</th>\n",
       "      <td>23</td>\n",
       "      <td>65500</td>\n",
       "      <td>RENT</td>\n",
       "      <td>4.0</td>\n",
       "      <td>MEDICAL</td>\n",
       "      <td>C</td>\n",
       "      <td>35000</td>\n",
       "      <td>15.23</td>\n",
       "      <td>0.53</td>\n",
       "      <td>N</td>\n",
       "      <td>2</td>\n",
       "      <td>1</td>\n",
       "    </tr>\n",
       "    <tr>\n",
       "      <th>4</th>\n",
       "      <td>24</td>\n",
       "      <td>54400</td>\n",
       "      <td>RENT</td>\n",
       "      <td>8.0</td>\n",
       "      <td>MEDICAL</td>\n",
       "      <td>C</td>\n",
       "      <td>35000</td>\n",
       "      <td>14.27</td>\n",
       "      <td>0.55</td>\n",
       "      <td>Y</td>\n",
       "      <td>4</td>\n",
       "      <td>1</td>\n",
       "    </tr>\n",
       "  </tbody>\n",
       "</table>\n",
       "</div>"
      ],
      "text/plain": [
       "   person_age  person_income person_home_ownership  person_emp_length  \\\n",
       "0          22          59000                  RENT              123.0   \n",
       "1          21           9600                   OWN                5.0   \n",
       "2          25           9600              MORTGAGE                1.0   \n",
       "3          23          65500                  RENT                4.0   \n",
       "4          24          54400                  RENT                8.0   \n",
       "\n",
       "  loan_intent loan_grade  loan_amnt  loan_int_rate  loan_percent_income  \\\n",
       "0    PERSONAL          D      35000          16.02                 0.59   \n",
       "1   EDUCATION          B       1000          11.14                 0.10   \n",
       "2     MEDICAL          C       5500          12.87                 0.57   \n",
       "3     MEDICAL          C      35000          15.23                 0.53   \n",
       "4     MEDICAL          C      35000          14.27                 0.55   \n",
       "\n",
       "  cb_person_default_on_file  cb_person_cred_hist_length  loan_status  \n",
       "0                         Y                           3            1  \n",
       "1                         N                           2            0  \n",
       "2                         N                           3            1  \n",
       "3                         N                           2            1  \n",
       "4                         Y                           4            1  "
      ]
     },
     "execution_count": 3,
     "metadata": {},
     "output_type": "execute_result"
    }
   ],
   "source": [
    "# import libraries - load and clean data\n",
    "import pandas as pd\n",
    "import openai\n",
    "import json\n",
    "\n",
    "# read in the credit_risk_dataset.json file into a pandas dataframe\n",
    "whole_df = pd.read_csv('credit_risk_dataset.csv')\n",
    "# cut it down to 200 rows for testing\n",
    "df = whole_df[0:200]\n",
    "# find features with missing values or NaN\n",
    "#print(df.isnull().sum())\n",
    "\n",
    "# clean the data replace NaN with -99.0\n",
    "df = df.fillna(-99.0)\n",
    "#re-order the columns so loan_status is last\n",
    "cols = list(df.columns.values)\n",
    "cols.pop(cols.index('loan_status'))\n",
    "df = df[cols+['loan_status']]\n",
    "# replace loan_status values 0 with paid and 1 with default\n",
    "#df['loan_status'] = df['loan_status'].replace(0, 'low risk')\n",
    "#df['loan_status'] = df['loan_status'].replace(1, 'high risk')\n",
    "df.head()\n"
   ]
  },
  {
   "cell_type": "code",
   "execution_count": 4,
   "metadata": {},
   "outputs": [],
   "source": [
    "# consolidate all data columns under data and loan_status under status \n",
    "tdata = []\n",
    "tstatus = []\n",
    "for index, row in df.iterrows():\n",
    "    loan_status = row['loan_status']\n",
    "    # drop the loan_status column\n",
    "    row = row.drop('loan_status')\n",
    "    # convert row to dictionary\n",
    "    row = row.to_dict()\n",
    "    # convert dictionary to string\n",
    "    data = json.dumps(row)\n",
    "    # remove curly braces\n",
    "    data = data.replace('{', '')\n",
    "    data = data.replace('}', '')\n",
    "    data = data.replace('\"', '')\n",
    "    tdata.append(data)\n",
    "    tstatus.append(loan_status)\n",
    "\n"
   ]
  },
  {
   "cell_type": "code",
   "execution_count": 10,
   "metadata": {},
   "outputs": [
    {
     "name": "stdout",
     "output_type": "stream",
     "text": [
      "person_age: 22, person_income: 59000, person_home_ownership: RENT, person_emp_length: 123.0, loan_intent: PERSONAL, loan_grade: D, loan_amnt: 35000, loan_int_rate: 16.02, loan_percent_income: 0.59, cb_person_default_on_file: Y, cb_person_cred_hist_length: 3\n",
      "person_age: 21, person_income: 9600, person_home_ownership: OWN, person_emp_length: 5.0, loan_intent: EDUCATION, loan_grade: B, loan_amnt: 1000, loan_int_rate: 11.14, loan_percent_income: 0.1, cb_person_default_on_file: N, cb_person_cred_hist_length: 2\n"
     ]
    }
   ],
   "source": [
    "# create a pandas from tdata and tstatus as columns\n",
    "df = pd.DataFrame({'data': tdata, 'loan_status': tstatus})\n",
    "# loop over rows and print data\n",
    "for index, row in df.iterrows():\n",
    "    if index > 1:\n",
    "        break\n",
    "    print(row['data'])\n",
    "   \n",
    " \n",
    "\n"
   ]
  },
  {
   "cell_type": "code",
   "execution_count": 19,
   "metadata": {},
   "outputs": [],
   "source": [
    "  # set the prompt\n",
    "prompt = \"You are a financial loan officer who has a low risk tolerance. You need to decide if the following person is a good candidate for a loan using the data to inform your decision. Here is their data: \" + data + \"}. In your response assign a risk level between 0 and 5 with 5 as the highest risk level. Deny if the risk level is above 2 or the loan_grade is C or worse.  Use the following format {decision: ,  risk_level: ,logic: }\""
   ]
  },
  {
   "cell_type": "code",
   "execution_count": 6,
   "metadata": {},
   "outputs": [],
   "source": [
    "# Send data to OpenAI API along with prompt\n",
    "import openai\n",
    "import os\n",
    "\n",
    "N = 8\n",
    "def classifyPerson(data):\n",
    "    # get the API key from the json file\n",
    "    openai.api_key = os.environ.get('OPENAI_API_KEY')\n",
    "\n",
    "    prompt = \"You are a financial loan officer in France who has a low risk tolerance. You need to decide if the following person is a good candidate for a loan using the data to inform your decision. Here is their data: \" + data + \"}. In your response assign a risk level between 0 and 5 with 5 as the highest risk level. Deny if the risk level is above 2 or the loan_grade is C or worse.  Use the following format {decision: ,  risk_level: ,logic: }\"\n",
    "    # call the API\n",
    "    response = openai.Completion.create(\n",
    "        engine=\"text-davinci-003\",\n",
    "        prompt=prompt,\n",
    "        max_tokens=100,\n",
    "        n=1,\n",
    "        stop=None,\n",
    "        temperature=0.0,\n",
    "    )\n",
    "\n",
    "    # print the response\n",
    "    print(response.choices[0].text)\n",
    "\n"
   ]
  },
  {
   "cell_type": "code",
   "execution_count": null,
   "metadata": {},
   "outputs": [],
   "source": [
    "# loop over first N rows of df and pass data to GPT via classifyPerson\n",
    "for index, row in df.iterrows():\n",
    "    if index < N:\n",
    "        data = row['data']\n",
    "        classifyPerson(data)"
   ]
  },
  {
   "cell_type": "code",
   "execution_count": null,
   "metadata": {},
   "outputs": [],
   "source": [
    "for index, row in df.iterrows():\n",
    "    if index < N:\n",
    "        data = row['loan_status']\n",
    "        if data == 0:\n",
    "            data = 'low risk'\n",
    "        else:\n",
    "            data = 'default'\n",
    "        print(\"Actual Decision: \"+ data)\n"
   ]
  },
  {
   "cell_type": "code",
   "execution_count": null,
   "metadata": {},
   "outputs": [],
   "source": []
  }
 ],
 "metadata": {
  "kernelspec": {
   "display_name": "Python 3",
   "language": "python",
   "name": "python3"
  },
  "language_info": {
   "codemirror_mode": {
    "name": "ipython",
    "version": 3
   },
   "file_extension": ".py",
   "mimetype": "text/x-python",
   "name": "python",
   "nbconvert_exporter": "python",
   "pygments_lexer": "ipython3",
   "version": "3.10.8"
  },
  "orig_nbformat": 4
 },
 "nbformat": 4,
 "nbformat_minor": 2
}
